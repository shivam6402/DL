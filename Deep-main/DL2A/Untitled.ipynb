{
 "cells": [
  {
   "cell_type": "code",
   "execution_count": 1,
   "id": "848f5ff9",
   "metadata": {},
   "outputs": [],
   "source": [
    "import numpy as np\n",
    "import pandas as pd\n",
    "import matplotlib.pyplot as plt\n",
    "from sklearn.model_selection import train_test_split\n",
    "from sklearn.preprocessing import LabelEncoder, StandardScaler"
   ]
  },
  {
   "cell_type": "code",
   "execution_count": 2,
   "id": "56b51fce",
   "metadata": {},
   "outputs": [],
   "source": [
    "# Load the data\n",
    "data = pd.read_csv(r\"letter-recognition.data\", header=None)"
   ]
  },
  {
   "cell_type": "code",
   "execution_count": 3,
   "id": "9a6b6ba2",
   "metadata": {},
   "outputs": [],
   "source": [
    "# Preprocess the data\n",
    "X = data.iloc[:, 1:]\n",
    "y = data.iloc[:, 0]\n"
   ]
  },
  {
   "cell_type": "code",
   "execution_count": 4,
   "id": "7a430be9",
   "metadata": {},
   "outputs": [],
   "source": [
    "# Convert labels to numerical values\n",
    "label_encoder = LabelEncoder()\n",
    "y = label_encoder.fit_transform(y)"
   ]
  },
  {
   "cell_type": "code",
   "execution_count": 5,
   "id": "05a72aa0",
   "metadata": {},
   "outputs": [],
   "source": [
    "# Normalize features\n",
    "scaler = StandardScaler()\n",
    "X = scaler.fit_transform(X)"
   ]
  },
  {
   "cell_type": "code",
   "execution_count": 6,
   "id": "78c0ca34",
   "metadata": {},
   "outputs": [
    {
     "data": {
      "text/html": [
       "<div>\n",
       "<style scoped>\n",
       "    .dataframe tbody tr th:only-of-type {\n",
       "        vertical-align: middle;\n",
       "    }\n",
       "\n",
       "    .dataframe tbody tr th {\n",
       "        vertical-align: top;\n",
       "    }\n",
       "\n",
       "    .dataframe thead th {\n",
       "        text-align: right;\n",
       "    }\n",
       "</style>\n",
       "<table border=\"1\" class=\"dataframe\">\n",
       "  <thead>\n",
       "    <tr style=\"text-align: right;\">\n",
       "      <th></th>\n",
       "      <th>0</th>\n",
       "      <th>1</th>\n",
       "      <th>2</th>\n",
       "      <th>3</th>\n",
       "      <th>4</th>\n",
       "      <th>5</th>\n",
       "      <th>6</th>\n",
       "      <th>7</th>\n",
       "      <th>8</th>\n",
       "      <th>9</th>\n",
       "      <th>10</th>\n",
       "      <th>11</th>\n",
       "      <th>12</th>\n",
       "      <th>13</th>\n",
       "      <th>14</th>\n",
       "      <th>15</th>\n",
       "      <th>16</th>\n",
       "    </tr>\n",
       "  </thead>\n",
       "  <tbody>\n",
       "    <tr>\n",
       "      <th>0</th>\n",
       "      <td>T</td>\n",
       "      <td>2</td>\n",
       "      <td>8</td>\n",
       "      <td>3</td>\n",
       "      <td>5</td>\n",
       "      <td>1</td>\n",
       "      <td>8</td>\n",
       "      <td>13</td>\n",
       "      <td>0</td>\n",
       "      <td>6</td>\n",
       "      <td>6</td>\n",
       "      <td>10</td>\n",
       "      <td>8</td>\n",
       "      <td>0</td>\n",
       "      <td>8</td>\n",
       "      <td>0</td>\n",
       "      <td>8</td>\n",
       "    </tr>\n",
       "    <tr>\n",
       "      <th>1</th>\n",
       "      <td>I</td>\n",
       "      <td>5</td>\n",
       "      <td>12</td>\n",
       "      <td>3</td>\n",
       "      <td>7</td>\n",
       "      <td>2</td>\n",
       "      <td>10</td>\n",
       "      <td>5</td>\n",
       "      <td>5</td>\n",
       "      <td>4</td>\n",
       "      <td>13</td>\n",
       "      <td>3</td>\n",
       "      <td>9</td>\n",
       "      <td>2</td>\n",
       "      <td>8</td>\n",
       "      <td>4</td>\n",
       "      <td>10</td>\n",
       "    </tr>\n",
       "    <tr>\n",
       "      <th>2</th>\n",
       "      <td>D</td>\n",
       "      <td>4</td>\n",
       "      <td>11</td>\n",
       "      <td>6</td>\n",
       "      <td>8</td>\n",
       "      <td>6</td>\n",
       "      <td>10</td>\n",
       "      <td>6</td>\n",
       "      <td>2</td>\n",
       "      <td>6</td>\n",
       "      <td>10</td>\n",
       "      <td>3</td>\n",
       "      <td>7</td>\n",
       "      <td>3</td>\n",
       "      <td>7</td>\n",
       "      <td>3</td>\n",
       "      <td>9</td>\n",
       "    </tr>\n",
       "    <tr>\n",
       "      <th>3</th>\n",
       "      <td>N</td>\n",
       "      <td>7</td>\n",
       "      <td>11</td>\n",
       "      <td>6</td>\n",
       "      <td>6</td>\n",
       "      <td>3</td>\n",
       "      <td>5</td>\n",
       "      <td>9</td>\n",
       "      <td>4</td>\n",
       "      <td>6</td>\n",
       "      <td>4</td>\n",
       "      <td>4</td>\n",
       "      <td>10</td>\n",
       "      <td>6</td>\n",
       "      <td>10</td>\n",
       "      <td>2</td>\n",
       "      <td>8</td>\n",
       "    </tr>\n",
       "    <tr>\n",
       "      <th>4</th>\n",
       "      <td>G</td>\n",
       "      <td>2</td>\n",
       "      <td>1</td>\n",
       "      <td>3</td>\n",
       "      <td>1</td>\n",
       "      <td>1</td>\n",
       "      <td>8</td>\n",
       "      <td>6</td>\n",
       "      <td>6</td>\n",
       "      <td>6</td>\n",
       "      <td>6</td>\n",
       "      <td>5</td>\n",
       "      <td>9</td>\n",
       "      <td>1</td>\n",
       "      <td>7</td>\n",
       "      <td>5</td>\n",
       "      <td>10</td>\n",
       "    </tr>\n",
       "  </tbody>\n",
       "</table>\n",
       "</div>"
      ],
      "text/plain": [
       "  0   1   2   3   4   5   6   7   8   9   10  11  12  13  14  15  16\n",
       "0  T   2   8   3   5   1   8  13   0   6   6  10   8   0   8   0   8\n",
       "1  I   5  12   3   7   2  10   5   5   4  13   3   9   2   8   4  10\n",
       "2  D   4  11   6   8   6  10   6   2   6  10   3   7   3   7   3   9\n",
       "3  N   7  11   6   6   3   5   9   4   6   4   4  10   6  10   2   8\n",
       "4  G   2   1   3   1   1   8   6   6   6   6   5   9   1   7   5  10"
      ]
     },
     "execution_count": 6,
     "metadata": {},
     "output_type": "execute_result"
    }
   ],
   "source": [
    "data.head(5)\n"
   ]
  },
  {
   "cell_type": "code",
   "execution_count": 7,
   "id": "0199e202",
   "metadata": {},
   "outputs": [],
   "source": [
    "# Split the data into training and testing sets\n",
    "X_train, X_test, y_train, y_test = train_test_split(X, y, test_size=0.2, random_state=42)"
   ]
  },
  {
   "cell_type": "code",
   "execution_count": 8,
   "id": "5899421b",
   "metadata": {},
   "outputs": [
    {
     "name": "stderr",
     "output_type": "stream",
     "text": [
      "2024-04-22 21:54:44.015593: I tensorflow/core/platform/cpu_feature_guard.cc:193] This TensorFlow binary is optimized with oneAPI Deep Neural Network Library (oneDNN) to use the following CPU instructions in performance-critical operations:  AVX2 FMA\n",
      "To enable them in other operations, rebuild TensorFlow with the appropriate compiler flags.\n",
      "2024-04-22 21:54:44.264857: W tensorflow/stream_executor/platform/default/dso_loader.cc:64] Could not load dynamic library 'libcudart.so.11.0'; dlerror: libcudart.so.11.0: cannot open shared object file: No such file or directory; LD_LIBRARY_PATH: /usr/local/cuda-12.4/lib64\n",
      "2024-04-22 21:54:44.264887: I tensorflow/stream_executor/cuda/cudart_stub.cc:29] Ignore above cudart dlerror if you do not have a GPU set up on your machine.\n",
      "2024-04-22 21:54:44.299905: E tensorflow/stream_executor/cuda/cuda_blas.cc:2981] Unable to register cuBLAS factory: Attempting to register factory for plugin cuBLAS when one has already been registered\n",
      "2024-04-22 21:54:44.796253: W tensorflow/stream_executor/platform/default/dso_loader.cc:64] Could not load dynamic library 'libnvinfer.so.7'; dlerror: libnvinfer.so.7: cannot open shared object file: No such file or directory; LD_LIBRARY_PATH: /usr/local/cuda-12.4/lib64\n",
      "2024-04-22 21:54:44.796323: W tensorflow/stream_executor/platform/default/dso_loader.cc:64] Could not load dynamic library 'libnvinfer_plugin.so.7'; dlerror: libnvinfer_plugin.so.7: cannot open shared object file: No such file or directory; LD_LIBRARY_PATH: /usr/local/cuda-12.4/lib64\n",
      "2024-04-22 21:54:44.796330: W tensorflow/compiler/tf2tensorrt/utils/py_utils.cc:38] TF-TRT Warning: Cannot dlopen some TensorRT libraries. If you would like to use Nvidia GPU with TensorRT, please make sure the missing libraries mentioned above are installed properly.\n",
      "2024-04-22 21:54:46.792200: E tensorflow/stream_executor/cuda/cuda_driver.cc:265] failed call to cuInit: CUDA_ERROR_NO_DEVICE: no CUDA-capable device is detected\n",
      "2024-04-22 21:54:46.792229: I tensorflow/stream_executor/cuda/cuda_diagnostics.cc:156] kernel driver does not appear to be running on this host (pushkar-Nitro-AN515-54): /proc/driver/nvidia/version does not exist\n",
      "2024-04-22 21:54:46.793013: I tensorflow/core/platform/cpu_feature_guard.cc:193] This TensorFlow binary is optimized with oneAPI Deep Neural Network Library (oneDNN) to use the following CPU instructions in performance-critical operations:  AVX2 FMA\n",
      "To enable them in other operations, rebuild TensorFlow with the appropriate compiler flags.\n"
     ]
    }
   ],
   "source": [
    "from sklearn.preprocessing import LabelEncoder, StandardScaler\n",
    "from tensorflow.keras.models import Sequential\n",
    "from tensorflow.keras.layers import Dense\n",
    "from tensorflow.keras.callbacks import History\n",
    "# Build the DNN Model\n",
    "model = Sequential()\n",
    "model.add(Dense(128, input_dim=X_train.shape[1], activation='relu'))\n",
    "model.add(Dense(64, activation='relu'))\n",
    "model.add(Dense(len(np.unique(y)), activation='softmax'))  # Output layer with softmax for multiclass classification"
   ]
  },
  {
   "cell_type": "code",
   "execution_count": 9,
   "id": "5a5cd97f",
   "metadata": {},
   "outputs": [],
   "source": [
    "# Compile the Model\n",
    "model.compile(optimizer='adam', loss='sparse_categorical_crossentropy', metrics=['accuracy'])"
   ]
  },
  {
   "cell_type": "code",
   "execution_count": 10,
   "id": "4cdffb7d",
   "metadata": {},
   "outputs": [
    {
     "name": "stdout",
     "output_type": "stream",
     "text": [
      "Epoch 1/10\n",
      "400/400 [==============================] - 2s 3ms/step - loss: 1.5850 - accuracy: 0.5713 - val_loss: 0.9248 - val_accuracy: 0.7375\n",
      "Epoch 2/10\n",
      "400/400 [==============================] - 1s 2ms/step - loss: 0.7397 - accuracy: 0.7884 - val_loss: 0.6640 - val_accuracy: 0.8075\n",
      "Epoch 3/10\n",
      "400/400 [==============================] - 1s 2ms/step - loss: 0.5509 - accuracy: 0.8398 - val_loss: 0.5061 - val_accuracy: 0.8587\n",
      "Epoch 4/10\n",
      "400/400 [==============================] - 1s 2ms/step - loss: 0.4446 - accuracy: 0.8718 - val_loss: 0.4351 - val_accuracy: 0.8725\n",
      "Epoch 5/10\n",
      "400/400 [==============================] - 1s 2ms/step - loss: 0.3732 - accuracy: 0.8899 - val_loss: 0.3685 - val_accuracy: 0.8913\n",
      "Epoch 6/10\n",
      "400/400 [==============================] - 1s 2ms/step - loss: 0.3210 - accuracy: 0.9056 - val_loss: 0.3402 - val_accuracy: 0.9016\n",
      "Epoch 7/10\n",
      "400/400 [==============================] - 1s 2ms/step - loss: 0.2803 - accuracy: 0.9162 - val_loss: 0.2983 - val_accuracy: 0.9150\n",
      "Epoch 8/10\n",
      "400/400 [==============================] - 1s 2ms/step - loss: 0.2473 - accuracy: 0.9261 - val_loss: 0.2770 - val_accuracy: 0.9200\n",
      "Epoch 9/10\n",
      "400/400 [==============================] - 1s 2ms/step - loss: 0.2223 - accuracy: 0.9318 - val_loss: 0.2559 - val_accuracy: 0.9216\n",
      "Epoch 10/10\n",
      "400/400 [==============================] - 1s 2ms/step - loss: 0.2006 - accuracy: 0.9384 - val_loss: 0.2381 - val_accuracy: 0.9266\n"
     ]
    }
   ],
   "source": [
    "# Train the Model\n",
    "history = model.fit(X_train, y_train, epochs=10, batch_size=32, validation_split=0.2)\n"
   ]
  },
  {
   "cell_type": "code",
   "execution_count": 11,
   "id": "4b9b0164",
   "metadata": {},
   "outputs": [
    {
     "name": "stdout",
     "output_type": "stream",
     "text": [
      "125/125 [==============================] - 0s 2ms/step - loss: 0.2221 - accuracy: 0.9323\n",
      "Test Loss: 0.2221, Test Accuracy: 0.9323\n"
     ]
    }
   ],
   "source": [
    "loss, accuracy = model.evaluate(X_test, y_test)\n",
    "print(f'Test Loss: {loss:.4f}, Test Accuracy: {accuracy:.4f}')"
   ]
  },
  {
   "cell_type": "code",
   "execution_count": 12,
   "id": "883b9143",
   "metadata": {},
   "outputs": [],
   "source": [
    "# Plot training history\n",
    "def plot_history(history):\n",
    "    plt.figure(figsize=(12, 4))\n",
    "\n",
    "    # Plot training & validation accuracy values\n",
    "    plt.subplot(1, 2, 1)\n",
    "    plt.plot(history.history['accuracy'])\n",
    "    plt.plot(history.history['val_accuracy'])\n",
    "    plt.title('Model accuracy')\n",
    "    plt.xlabel('Epoch')\n",
    "    plt.ylabel('Accuracy')\n",
    "    plt.legend(['Train', 'Validation'], loc='upper left')"
   ]
  },
  {
   "cell_type": "code",
   "execution_count": 15,
   "id": "d1117182",
   "metadata": {},
   "outputs": [
    {
     "data": {
      "image/png": "[encoded data removed]",
      "text/plain": [
       "<Figure size 640x480 with 1 Axes>"
      ]
     },
     "metadata": {},
     "output_type": "display_data"
    }
   ],
   "source": [
    "# Plot training & validation loss values\n",
    "plt.subplot(1, 2, 2)\n",
    "plt.plot(history.history['loss'])\n",
    "plt.plot(history.history['val_loss'])\n",
    "plt.title('Model loss')\n",
    "plt.xlabel('Epoch')\n",
    "plt.ylabel('Loss')\n",
    "plt.legend(['Train', 'Validation'], loc='upper left')\n",
    "\n",
    "plt.tight_layout()\n",
    "plt.show()"
   ]
  },
  {
   "cell_type": "code",
   "execution_count": 16,
   "id": "a4f20a50",
   "metadata": {},
   "outputs": [
    {
     "data": {
      "image/png": "[encoded data removed]",
      "text/plain": [
       "<Figure size 1200x400 with 1 Axes>"
      ]
     },
     "metadata": {},
     "output_type": "display_data"
    }
   ],
   "source": [
    "# Plot the history\n",
    "plot_history(history)"
   ]
  },
  {
   "cell_type": "code",
   "execution_count": 17,
   "id": "9b59bcea",
   "metadata": {},
   "outputs": [],
   "source": [
    "# Given data\n",
    "import numpy as np\n",
    "new_data = np.array([12,14,12,8,5,9,10,4,3,5,10,7,10,12,2,6]).reshape(1, -1)\n"
   ]
  },
  {
   "cell_type": "code",
   "execution_count": 18,
   "id": "e6778cda",
   "metadata": {},
   "outputs": [
    {
     "name": "stdout",
     "output_type": "stream",
     "text": [
      "1/1 [==============================] - 0s 135ms/step\n",
      "[[1.6129061e-25 0.0000000e+00 1.8577513e-13 0.0000000e+00 2.6483112e-16\n",
      "  3.1403322e-31 1.1048511e-26 1.0000000e+00 0.0000000e+00 0.0000000e+00\n",
      "  6.4151974e-29 0.0000000e+00 1.4975821e-20 3.6556003e-31 6.4058735e-16\n",
      "  4.8900581e-37 4.3979157e-11 0.0000000e+00 1.2101517e-31 8.2065355e-15\n",
      "  5.9975134e-35 6.7807080e-15 7.3063650e-24 6.7222349e-33 3.2366397e-34\n",
      "  3.7306321e-38]]\n",
      "The predicted class is: 7\n"
     ]
    }
   ],
   "source": [
    "# Use the model to make predictions\n",
    "predictions = model.predict(new_data)\n",
    "print(predictions)\n",
    "# Display the predictions\n",
    "predicted_class = np.argmax(predictions)\n",
    "print(f'The predicted class is: {predicted_class}')"
   ]
  },
  {
   "cell_type": "code",
   "execution_count": 19,
   "id": "5a4f0564",
   "metadata": {},
   "outputs": [],
   "source": [
    "class_mapping = {\n",
    "    0: 'A', 1: 'B', 2: 'C', 3: 'D', 4: 'E', 5: 'F', 6: 'G', 7: 'H', 8: 'I', 9: 'J',\n",
    "    10: 'K', 11: 'L', 12: 'M', 13: 'N', 14: 'O', 15: 'P', 16: 'Q', 17: 'R', 18: 'S', 19: 'T',\n",
    "    20: 'U', 21: 'V', 22: 'W', 23: 'X', 24: 'Y', 25: 'Z'\n",
    "}"
   ]
  },
  {
   "cell_type": "code",
   "execution_count": 20,
   "id": "f3ea3cd6",
   "metadata": {},
   "outputs": [
    {
     "name": "stdout",
     "output_type": "stream",
     "text": [
      "The predicted class is: 7, which corresponds to the letter: H\n"
     ]
    }
   ],
   "source": [
    "# Display the predicted class using the mapping\n",
    "predicted_letter = class_mapping[predicted_class]\n",
    "print(f'The predicted class is: {predicted_class}, which corresponds to the letter: {predicted_letter}')"
   ]
  },
  {
   "cell_type": "code",
   "execution_count": 21,
   "id": "575ed36e",
   "metadata": {},
   "outputs": [],
   "source": [
    "import tkinter as tk\n",
    "from tkinter import messagebox\n",
    "import numpy as np\n",
    "\n",
    "# Function to predict letter\n",
    "def predict_letter():\n",
    "    # Retrieve input data from entry widget\n",
    "    input_data = entry.get()\n",
    "    # Convert input data to numpy array\n",
    "    try:\n",
    "        new_data = np.array(list(map(int, input_data.split()))).reshape(1, -1)\n",
    "        # Use the model to make predictions\n",
    "        predictions = model.predict(new_data)\n",
    "        # Display the predictions\n",
    "        predicted_class = np.argmax(predictions)\n",
    "        predicted_letter = class_mapping.get(predicted_class, 'Unknown')\n",
    "        # Display predicted Letter\n",
    "        messagebox.showinfo(\"Prediction Result\", f\"The predicted letter is: {predicted_letter}\")\n",
    "    except ValueError:\n",
    "        messagebox.showerror(\"Error\", \"Invalid input data. Please enter space-separated integers.\")"
   ]
  },
  {
   "cell_type": "code",
   "execution_count": 22,
   "id": "131df647",
   "metadata": {},
   "outputs": [
    {
     "name": "stdout",
     "output_type": "stream",
     "text": [
      "1/1 [==============================] - 0s 31ms/step\n"
     ]
    }
   ],
   "source": [
    "# Load your model and class mapping before creating the Tkinter window\n",
    "\n",
    "# Create Tkinter window\n",
    "window = tk.Tk()\n",
    "window.title(\"Letter Prediction\")\n",
    "\n",
    "# Create a Label\n",
    "label = tk.Label(window, text=\"Enter new data (space-separated integers):\")\n",
    "label.pack(pady=10)\n",
    "\n",
    "# Create an entry widget\n",
    "entry = tk.Entry(window, width=50)\n",
    "entry.pack()\n",
    "\n",
    "# Create a button\n",
    "button = tk.Button(window, text=\"Predict Letter\", command=predict_letter)\n",
    "button.pack(pady=10)\n",
    "\n",
    "# Run the Tkinter event Loop\n",
    "window.mainloop()\n"
   ]
  },
  {
   "cell_type": "code",
   "execution_count": null,
   "id": "4951cd01",
   "metadata": {},
   "outputs": [],
   "source": []
  }
 ],
 "metadata": {
  "kernelspec": {
   "display_name": "Python 3 (ipykernel)",
   "language": "python",
   "name": "python3"
  },
  "language_info": {
   "codemirror_mode": {
    "name": "ipython",
    "version": 3
   },
   "file_extension": ".py",
   "mimetype": "text/x-python",
   "name": "python",
   "nbconvert_exporter": "python",
   "pygments_lexer": "ipython3",
   "version": "3.10.12"
  }
 },
 "nbformat": 4,
 "nbformat_minor": 5
}
